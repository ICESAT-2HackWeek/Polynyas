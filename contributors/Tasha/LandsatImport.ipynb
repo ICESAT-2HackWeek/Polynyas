{
 "cells": [
  {
   "cell_type": "code",
   "execution_count": null,
   "id": "b9cde2d3-084e-48c9-9fd8-bd2c7b879293",
   "metadata": {},
   "outputs": [],
   "source": [
    "# import stackstac\n",
    "# import pystac_client"
   ]
  },
  {
   "cell_type": "code",
   "execution_count": null,
   "id": "edb1ee6c-ebcd-4e59-a83b-645f7347642c",
   "metadata": {},
   "outputs": [],
   "source": [
    "# URL = \"https://landsatlook.usgs.gov/stac-server\"\n",
    "# catalog = pystac_client.Client.open(URL)\n",
    "\n",
    "# stac_items = catalog.search(\n",
    "#     intersects=dict(type=\"Point\", coordinates=[geom.bounds[2], geom.bounds[3]]),\n",
    "#     collections='landsat-c2l1',\n",
    "#     datetime=timeRange\n",
    "# ).get_all_items()\n",
    "\n",
    "# scene = stackstac.stack(stac_items)\n",
    "# scene"
   ]
  },
  {
   "cell_type": "code",
   "execution_count": null,
   "id": "1f607565-4d06-48f5-a59e-0d0c11ec0c61",
   "metadata": {},
   "outputs": [],
   "source": [
    "%matplotlib inline\n",
    "import satsearch\n",
    "print(satsearch.__version__)\n",
    "# print(satsearch.config.API_URL)\n",
    "from satsearch import Search\n",
    "import geopandas as gpd\n",
    "import ast\n",
    "import pandas as pd\n",
    "import geoviews as gv\n",
    "import hvplot.pandas\n",
    "from ipywidgets import interact\n",
    "from IPython.display import display, Image\n",
    "import intake # if you've installed intake-STAC, it will automatically import alongside intake\n",
    "import xarray as xr\n",
    "import matplotlib.pyplot as plt\n",
    "import boto3\n",
    "import rasterio as rio\n",
    "from rasterio.session import AWSSession\n",
    "from rasterio.plot import show\n",
    "from dask.utils import SerializableLock\n",
    "import os\n",
    "import hvplot.xarray\n",
    "import numpy as np\n",
    "from pyproj import Proj, transform\n",
    "\n",
    "# Suppress library deprecation warnings\n",
    "import warnings\n",
    "warnings.filterwarnings('ignore')"
   ]
  },
  {
   "cell_type": "markdown",
   "id": "191394e5-03fe-48ee-aa29-dec3079de234",
   "metadata": {},
   "source": [
    "### Search for Landsat imagery"
   ]
  },
  {
   "cell_type": "markdown",
   "id": "becf10ca-95de-4052-85c8-43b5f05e805f",
   "metadata": {
    "tags": []
   },
   "source": [
    "To explore and access COG's easily we will use a SpatioTemporal Asset Catalog (STAC). The STAC provides a common metadata format to make it easier to index and querrying S3 buckets for geospatial data. Learn more here: https://github.com/radiantearth/stac-spec."
   ]
  },
  {
   "cell_type": "code",
   "execution_count": null,
   "id": "5d47b2ba-4da8-4675-a92b-c67de937dcf1",
   "metadata": {},
   "outputs": [],
   "source": [
    "# Sets up credentials for acquiring images through dask/xarray\n",
    "os.environ[\"AWS_REQUEST_PAYER\"] = \"requester\"\n",
    "\n",
    "# Sets up proper credentials for acquiring data through rasterio\n",
    "aws_session = AWSSession(boto3.Session(), requester_pays=True)"
   ]
  },
  {
   "cell_type": "markdown",
   "id": "e780207e-7e31-40bf-9e55-a58aeeaa1a35",
   "metadata": {},
   "source": [
    "Extract geometry bounds from the ICESat-2 KML file used above so that we can perform the Landsat spatial search."
   ]
  },
  {
   "cell_type": "code",
   "execution_count": null,
   "id": "e53e261d-7c35-46f7-be69-44c3efbd969a",
   "metadata": {},
   "outputs": [],
   "source": [
    "# Extract geometry bounds\n",
    "geom = jk.geometry[0]\n",
    "print(geom.bounds)"
   ]
  },
  {
   "cell_type": "markdown",
   "id": "5e0b678a-df59-44f7-a269-1f5f809dd59a",
   "metadata": {},
   "source": [
    "We will search for imagery in STAC catalog using satsearch: \n",
    "https://github.com/sat-utils/sat-search"
   ]
  },
  {
   "cell_type": "code",
   "execution_count": null,
   "id": "5da0b821-1566-43ff-b150-8ef6de0c68b2",
   "metadata": {},
   "outputs": [],
   "source": [
    "# Search STAC API for Landsat images based on a bounding box, date and other metadata if desired\n",
    "\n",
    "bbox = (geom.bounds[0], geom.bounds[1], geom.bounds[2], geom.bounds[3]) #(west, south, east, north) \n",
    "\n",
    "timeRange = '2019-05-06/2019-05-07'\n",
    "    \n",
    "results = Search.search(url='https://landsatlook.usgs.gov/stac-server',\n",
    "                        collection='usgs-landsat/collection02/',\n",
    "                        datetime=timeRange,\n",
    "                        bbox=bbox,    \n",
    "                        # properties=properties,\n",
    "                        sort=['<datetime'])\n",
    "\n",
    "print('%s items' % results.found())\n",
    "items = results.items()\n",
    "\n",
    "# Save search to geojson file\n",
    "gjson_outfile = f'/home/jovyan/website2022/book/tutorials/DataIntegration/Landsat.geojson'\n",
    "items.save(gjson_outfile)"
   ]
  },
  {
   "cell_type": "code",
   "execution_count": null,
   "id": "30cf0c88-1685-4d4d-b207-a24c9135fbed",
   "metadata": {},
   "outputs": [],
   "source": [
    "# Search for Landsat or Sentinel images based on a bounding box, date and other metadata if desired\n",
    "# Save to geojson file\n",
    "# NOTE this STAC API endpoint does not currently search the entire catalog\n",
    "\n",
    "satellite = 'Landsat8'\n",
    "\n",
    "bbox = (-105.30, -74.970, -105.08, -74.920) #(west, south, east, north) \n",
    "\n",
    "timeRange = '2013-10-12/2013-11-18'\n",
    "\n",
    "if satellite=='Landsat8':\n",
    "    # url = 'https://ibhoyw8md9.execute-api.us-west-2.amazonaws.com/prod'\n",
    "    url = 'https://landsatlook.usgs.gov/stac-server'\n",
    "    collection = 'usgs-landsat/collection02/'\n",
    "    band = 'blue'\n",
    "    colnm = ['landsat:wrs_path','landsat:wrs_row']\n",
    "    end = '_T2' # end of file name if don't want all\n",
    "    qa_band = 'qa_pixel'\n",
    "elif satellite=='Sentinel2':\n",
    "    url = 'https://earth-search.aws.element84.com/v0' # maybe also https://services.sentinel-hub.com/api/v1/catalog/\n",
    "    collection = 'sentinel-s2-l2a-cogs'\n",
    "    band = 'B02'\n",
    "    colnm = ['sentinel:latitude_band','sentinel:grid_square']\n",
    "    end = 'L2A'\n",
    "    qa_band = 'SCL'\n",
    "elif satellite=='Sentinel1': ### Doesn't work\n",
    "    url = 'http://eocloud.sentinel-hub.com/search'\n",
    "    collection = 'sentinel-s1-rtc-indigo'\n",
    "    \n",
    "results = Search.search(url=url,\n",
    "                        collection=collection,\n",
    "                        datetime=timeRange,\n",
    "                        bbox=bbox,    \n",
    "                        # properties=properties,\n",
    "                        sort=['<datetime'])\n",
    "\n",
    "print('%s items' % results.found())\n",
    "items = results.items()\n",
    "items.save(f'/home/jovyan/shared-readwrite/geostacks/polynyas/{satellite}.geojson')"
   ]
  },
  {
   "cell_type": "markdown",
   "id": "dcc462a6-fe32-4d88-9696-8f16e3c7e50e",
   "metadata": {},
   "source": [
    "We can include property searches, such as path, row, cloud-cover, as well with the `properties` flag."
   ]
  },
  {
   "cell_type": "markdown",
   "id": "f0c5e7a3-d142-4b92-a757-fc9797932db4",
   "metadata": {},
   "source": [
    "We are given a satsearch collection of items (images)"
   ]
  },
  {
   "cell_type": "code",
   "execution_count": null,
   "id": "89b3e028-e4e1-421e-9a28-8abb771fac21",
   "metadata": {},
   "outputs": [],
   "source": [
    "items"
   ]
  },
  {
   "cell_type": "markdown",
   "id": "f14308c7-07b9-4e5f-b830-311b03169686",
   "metadata": {},
   "source": [
    "Load the geojson file into geopandas and inspect the items we want to collect"
   ]
  },
  {
   "cell_type": "code",
   "execution_count": null,
   "id": "5646e14d-5dea-4a9a-b41f-3f73997e09e0",
   "metadata": {},
   "outputs": [],
   "source": [
    "# Load the geojson file\n",
    "gf = gpd.read_file(gjson_outfile)\n",
    "gf.head(2)"
   ]
  },
  {
   "cell_type": "code",
   "execution_count": null,
   "id": "037d7cb2-56e9-4040-842c-58e5edad696e",
   "metadata": {},
   "outputs": [],
   "source": [
    "# Plot search area of interest and frames on a map using Holoviz Libraries (more on these later)\n",
    "cols = gf.loc[:,('id','landsat:wrs_path','landsat:wrs_row','geometry')]\n",
    "footprints = cols.hvplot(geo=True, line_color='k', hover_cols=['landsat:wrs_path','landsat:wrs_row'], alpha=0.2, title='Landsat 8 T1',tiles='ESRI')\n",
    "tiles = gv.tile_sources.CartoEco.options(width=700, height=500) \n",
    "labels = gv.tile_sources.StamenLabels.options(level='annotation')\n",
    "tiles * footprints * labels"
   ]
  },
  {
   "cell_type": "markdown",
   "id": "81f20a06-1cf6-4a42-b0c1-0aef0b4bd604",
   "metadata": {},
   "source": [
    "### Intake all scenes using the intake-STAC library\n",
    "`Intake-STAC` facilitates discovering, exploring, and loading spatio-temporal datasets by providing Intake Drivers for STAC catalogs. This provides a simple toolkit for working with STAC catalogs and for loading STAC assets as `xarray` objects."
   ]
  },
  {
   "cell_type": "code",
   "execution_count": null,
   "id": "3cd7cc65-373f-4f2d-900e-7e79cb25ec1b",
   "metadata": {},
   "outputs": [],
   "source": [
    "catalog = intake.open_stac_item_collection(items)\n",
    "list(catalog)"
   ]
  },
  {
   "cell_type": "markdown",
   "id": "7652e9da-2231-4ebc-9d17-5acff1c20eb2",
   "metadata": {},
   "source": [
    "Let's explore the metadata and keys for the first scene"
   ]
  },
  {
   "cell_type": "code",
   "execution_count": null,
   "id": "7d888b3f-45b6-4e04-8a56-e7e0d9dfda15",
   "metadata": {},
   "outputs": [],
   "source": [
    "sceneids = list(catalog)\n",
    "item3 = catalog[sceneids[3]]\n",
    "item3.metadata\n",
    "# for keys in item3.keys():\n",
    "    # print (keys)"
   ]
  },
  {
   "cell_type": "markdown",
   "id": "a6a06d4b-38b2-4c96-9f16-9f06caa157b8",
   "metadata": {},
   "source": [
    "We can explore the metadata for any of these:"
   ]
  },
  {
   "cell_type": "code",
   "execution_count": null,
   "id": "247c3d0e-b2cd-4baf-8cab-877b59a1d465",
   "metadata": {},
   "outputs": [],
   "source": [
    "item3['blue'].metadata"
   ]
  },
  {
   "cell_type": "code",
   "execution_count": null,
   "id": "a4515eb1-9ab6-422b-8229-7e2904ed7d7c",
   "metadata": {},
   "outputs": [],
   "source": [
    "# This is the url needed to grab data from the S3 bucket\n",
    "# From the satsearch catalog:\n",
    "items[3].asset('blue')['alternate']['s3']['href'] # can use item asset name or title (blue or B2)\n",
    "\n",
    "# From the intake-STAC catalog\n",
    "item3.blue.metadata['alternate']['s3']['href'] # must use item asset name (blue)"
   ]
  },
  {
   "cell_type": "markdown",
   "id": "2167ecff-7207-4294-85dc-89e47caa91f5",
   "metadata": {},
   "source": [
    "### Open and visualize each image using RasterIO "
   ]
  },
  {
   "cell_type": "code",
   "execution_count": null,
   "id": "8649636b-6710-45f7-82f8-7f32da2a67ab",
   "metadata": {},
   "outputs": [],
   "source": [
    "import rasterio as rio\n",
    "\n",
    "# Retrieve first scene using rio\n",
    "item_url = item3.blue.metadata['alternate']['s3']['href']\n",
    "\n",
    "# Read and plot with grid coordinates \n",
    "with rio.Env(aws_session):\n",
    "    with rio.open(item_url) as src:\n",
    "        fig, ax = plt.subplots(figsize=(9,8))\n",
    "        \n",
    "        # To plot\n",
    "        show(src,1)\n",
    "        \n",
    "        # To open data into a numpy array\n",
    "        profile = src.profile\n",
    "        arr = src.read(1)"
   ]
  },
  {
   "cell_type": "markdown",
   "id": "fd89abe1-c4ce-4da6-bfa5-ff6b0dba43c5",
   "metadata": {},
   "source": [
    "## Read into Xarray"
   ]
  },
  {
   "cell_type": "code",
   "execution_count": null,
   "id": "52f9403b-2626-4cf6-aee7-2cbe745b30ee",
   "metadata": {},
   "outputs": [],
   "source": [
    "def retrieve_bands(item,satellite):\n",
    "    '''Get band names for specific satellite\n",
    "    input:\n",
    "        item = stac catalog item\n",
    "        satellite = str satellite name\n",
    "    return:\n",
    "        band_names = list of str of desired band names\n",
    "    '''\n",
    "    \n",
    "    band_names = []\n",
    "    if satellite=='Landsat8':\n",
    "        for k in item.keys():\n",
    "            M = getattr(item, k).metadata\n",
    "            if 'eo:bands' in M:\n",
    "                resol = M['eo:bands'][0]['gsd']\n",
    "#                 print(k, resol)\n",
    "                if resol >= 30: # thermal bands are up sampled from 100 to 30\n",
    "                    band_names.append(k)\n",
    "        \n",
    "    elif satellite=='Sentinel2': # no thermal data so therm will be empty\n",
    "        for k in item.keys():\n",
    "            try:\n",
    "                M = getattr(item, k).metadata\n",
    "                if 'data' in M['roles']:\n",
    "                    if 'eo:bands' in M:\n",
    "                        resol = M['gsd']\n",
    "                        # print(k, resol)\n",
    "                        if resol == 10:\n",
    "                            band_names.append(k)\n",
    "            except:\n",
    "                continue\n",
    "                \n",
    "    return band_names\n",
    "\n",
    "def add_mask(qa_band,satellite):\n",
    "    ''' Add the qa band for the satellite\n",
    "    \n",
    "    input:\n",
    "        qa_band = str name of satellite qa band\n",
    "        satellite = str name of satellite\n",
    "    \n",
    "    return: \n",
    "        mask_c = mask array or qa band\n",
    "    '''\n",
    "    \n",
    "    if satellite == 'Landsat8':\n",
    "        # Create and add cloud mask (this mask is technically everything except nan,ocean,ice clear sky)\n",
    "        # 1 is no data, 21952 is ocean, 30048 is ice (can change this to add more)\n",
    "        # Access mask via 'ts_scenes.isel(time=0).mask'\n",
    "        \n",
    "        # Determined qa_pixel values\n",
    "        ice = [30048, 30304]\n",
    "        ocean = [21952, 22208]\n",
    "        cloud = [21762,22018,22280,23826,24082,29986,30242,54790,55052,56598,56660,56854,56916,62758,62820,63014,63076]\n",
    "        nans = [1]\n",
    "        \n",
    "        qa = scene.sel(band=qa_band)\n",
    "        cond = np.logical_or((qa.isin(ocean))|(qa.isin(ice)), qa==1)\n",
    "#         cond = np.logical_or((qa==21952)|(qa==30048), qa==1)\n",
    "        qa_c = qa.where(~cond, np.nan)\n",
    "        cond = np.logical_or((qa_c.isin(ocean))|(qa_c.isin(ice)), qa_c==1)\n",
    "        mask_c = qa_c.where(qa_c.isnull(),2) # cloud = 2\n",
    "        \n",
    "        # For optional ice mask\n",
    "        qa_io = qa.where(qa.isin(ice), np.nan)\n",
    "        mask_io = qa_io.where(~(qa_io.isin(ice)),1) # ice = 1\n",
    "        mask_c = mask_io.where(mask_io==1,mask_c)\n",
    "    \n",
    "    elif satellite == 'Sentinel2':\n",
    "        mask_c = scene.sel(band=qa_band)\n",
    "    \n",
    "    return mask_c\n",
    "\n",
    "def time_index_from_filenames(file_links):\n",
    "    '''\n",
    "    Helper function to create a pandas DatetimeIndex ***unusued currently\n",
    "    '''\n",
    "    return [datetime.strptime(f.split('.')[-5], '%Y%jT%H%M%S') for f in file_links]"
   ]
  },
  {
   "cell_type": "code",
   "execution_count": null,
   "id": "eca15bba-5eab-4324-a13d-f89bd0fd8312",
   "metadata": {},
   "outputs": [],
   "source": [
    "# band_names = []\n",
    "\n",
    "# # Get band names\n",
    "# sceneid = catalog[sceneids[1]]\n",
    "# for k in sceneid.keys():\n",
    "#     M = getattr(sceneid, k).metadata\n",
    "#     if 'eo:bands' in M:\n",
    "#         resol = M['eo:bands'][0]['gsd']\n",
    "#         print(k, resol)\n",
    "#         if resol == 30: \n",
    "#             band_names.append(k)\n",
    "            \n",
    "# # Add qa band\n",
    "# band_names.append('qa_pixel')"
   ]
  },
  {
   "cell_type": "markdown",
   "id": "4f2af261-0fb4-4e88-a4d0-2a26129449ed",
   "metadata": {},
   "source": [
    "And now open all of it..."
   ]
  },
  {
   "cell_type": "code",
   "execution_count": null,
   "id": "9054d68e-bd33-4d8c-9a58-af93140b108f",
   "metadata": {},
   "outputs": [],
   "source": [
    "# # Import to xarray\n",
    "# # In xarray dataframe nans are in locations where concat of multiple scenes has expanded the grid (i.e. different path/rows).\n",
    "# scenes = []\n",
    "\n",
    "# for sceneid in sceneids:\n",
    "#     sceneid = catalog[sceneid]\n",
    "#     print (sceneid.name)\n",
    "\n",
    "#     bands = []\n",
    "\n",
    "#     # Construct xarray for scene, open each band, append and concatenate together to create a scene, \n",
    "#     # then append and concatenate each scene to create the full dataframe \n",
    "#     for band_name in band_names:\n",
    "#         band = sceneid[band_name](chunks=dict(band=1, x=2048, y=2048),urlpath=sceneid[band_name].metadata['alternate']['s3']['href']).to_dask()\n",
    "#         band['band'] = [band_name]\n",
    "#         bands.append(band)\n",
    "#     scene = xr.concat(bands, dim='band')\n",
    "#     scenes.append(scene)\n",
    "\n",
    "# # Concatenate scenes with time variable\n",
    "# ls_scenes = xr.concat(scenes, dim=time_var)\n",
    "\n",
    "# ls_scenes"
   ]
  },
  {
   "cell_type": "code",
   "execution_count": null,
   "id": "cbb2bb23-90b6-4bb1-b6d4-5ba2509e6d51",
   "metadata": {},
   "outputs": [],
   "source": [
    "# Import to xarray with cloud mask  ***Creating cloud mask is slow\n",
    "# nans are in locations where concat of multiple scenes has expanded the grid\n",
    "# Would like to use SR for all bands except TIR, but they are not available for many scenes so would\n",
    "# need a separate model for scenes with SR and those without.\n",
    "scenes = []\n",
    "\n",
    "# Create time variable for time dim\n",
    "time_var = xr.Variable('time',gf.loc[gf.id.isin([item for item in sceneid if item.endswith(end)])]['datetime'])\n",
    "_, index = np.unique(time_var, return_index=True) # for some reason there are duplicates in Sentinel\n",
    "time_var = time_var[index]\n",
    "    \n",
    "for item in sceneid:\n",
    "    if item.endswith(end):\n",
    "        item = catalog[item]\n",
    "        print (item.name)\n",
    "        \n",
    "        bands = []\n",
    "        \n",
    "        # Get desired band names, currently hard coded for resolutions\n",
    "        band_names = retrieve_bands(item,satellite)\n",
    "                    \n",
    "        # Add qa band\n",
    "        band_names.append(qa_band)\n",
    "\n",
    "        # Concatenate desired bands and construct xarray for scene\n",
    "        for band_name in band_names:\n",
    "            if satellite=='Landsat8':\n",
    "                url = item[band_name].metadata['alternate']['s3']['href']\n",
    "            elif satellite=='Sentinel2':\n",
    "                url = item[band_name].metadata['href']\n",
    "            band = item[band_name](chunks=dict(band=1, x=2048, y=2048),urlpath=url).to_dask() # Specify chunk size, landsat is prob in 512 chunks so used multiple\n",
    "            band['band'] = [band_name]\n",
    "            bands.append(band)\n",
    "        scene = xr.concat(bands, dim='band')\n",
    "        \n",
    "        # Add qa band or mask and concatenate, in L8 cloud=2/ice=1\n",
    "        mask = add_mask(qa_band,satellite)\n",
    "        scene.coords['mask'] = (('y', 'x'), mask.data)\n",
    "        scenes.append(scene)\n",
    "\n",
    "# Concatenate scenes with time variable ***This is the slowest\n",
    "ts_scenes = xr.concat(scenes, dim=time_var)\n",
    "\n",
    "# Get epsg for Landsat images\n",
    "# epsg = item.metadata['proj:epsg']\n",
    "# epsg = ts_scenes.crs\n",
    "pix = ts_scenes.transform[0]\n",
    "\n",
    "ts_scenes"
   ]
  },
  {
   "cell_type": "markdown",
   "id": "b7fbf707-492c-4b87-8298-03b68ab0304d",
   "metadata": {},
   "source": [
    "We now have 2 Landsat scenes with all of the bands we are interested in stored in an `xarray`, but you can imagine that this exact code can scale to years worth of data and bands.\n",
    "\n",
    "`Stack-STAC` is another package that works similarly and may be more efficient for searching and reading in data from a STAC catalog. However, we will not show it here because it may not be as flexible for reading in selected data and isn't as transparent in how it builds a `DataArray` (https://github.com/gjoseph92/stackstac). "
   ]
  },
  {
   "cell_type": "markdown",
   "id": "439fe505-a6ca-4a07-bd0a-e0d1028466da",
   "metadata": {},
   "source": [
    "From here, we easily subset one image at a time or the entire `xarray`:"
   ]
  },
  {
   "cell_type": "code",
   "execution_count": null,
   "id": "5fb7bace-c595-452e-a812-aef8c0c6b387",
   "metadata": {},
   "outputs": [],
   "source": [
    "sbands = ['blue', 'nir08', 'swir16']\n",
    "\n",
    "# Select the first datetime\n",
    "t = ls_scenes.time.values[1]\n",
    "print (t)\n",
    "\n",
    "# Upper left and lower right coordinates for subsetting to Jakobshavn area\n",
    "ulx = 300000\n",
    "uly = 7695000\n",
    "lrx = 330000\n",
    "lry = 7670000\n",
    "\n",
    "image = ls_scenes.sel(time=t,band=sbands,y=slice(lry,uly),x=slice(ulx,lrx))"
   ]
  },
  {
   "cell_type": "code",
   "execution_count": null,
   "id": "c8aacb12-a134-46d2-814e-7f114fe51d53",
   "metadata": {},
   "outputs": [],
   "source": [
    "fig, ax = plt.subplots(figsize=(8,6))\n",
    "image.sel(band='blue').plot()"
   ]
  },
  {
   "cell_type": "markdown",
   "id": "2b3c0362-8bf6-49d3-9aeb-a90827900224",
   "metadata": {},
   "source": [
    "Since this data is in UTM 22N, we can reproject to the standard lat/lon coordinate system (WGS-84) and map with the ICESat-2 and ATM lines. However, we realized the CRS data was inaccurate in the DataArray in comparison to the STAC catalog..."
   ]
  },
  {
   "cell_type": "code",
   "execution_count": null,
   "id": "3ba6877b-7f7a-4378-8368-9dab5ed68260",
   "metadata": {},
   "outputs": [],
   "source": [
    "print (item3.metadata['proj:epsg'])\n",
    "print (image.rio.crs)"
   ]
  },
  {
   "cell_type": "markdown",
   "id": "9c8c0954-dbea-41f7-84b2-54b3036c792f",
   "metadata": {},
   "source": [
    "The inaccurate CRS lableling is something that may arise with some Landsat UTMs so if you plot your data after reprojecting and it looks wild, double check that you started with the correct UTM information."
   ]
  },
  {
   "cell_type": "markdown",
   "id": "593d1546-cecd-4483-a4ed-1c0dbdd1c7cf",
   "metadata": {},
   "source": [
    "We re-label our CRS info in our `DataArray` to correct this:"
   ]
  },
  {
   "cell_type": "code",
   "execution_count": null,
   "id": "a68653ed-79c4-45cb-b9dd-c330596627b0",
   "metadata": {},
   "outputs": [],
   "source": [
    "image = image.rio.write_crs(32623)\n",
    "image.rio.crs"
   ]
  },
  {
   "cell_type": "markdown",
   "id": "260e0aa6-07bb-4ccb-84fd-aa0e0eee4909",
   "metadata": {},
   "source": [
    "Now we can reproject and map!!!"
   ]
  },
  {
   "cell_type": "code",
   "execution_count": null,
   "id": "2de2eaec-3560-4457-b24d-5c8f0c70509c",
   "metadata": {},
   "outputs": [],
   "source": [
    "image = image.rio.reproject(4326)\n",
    "\n",
    "ISlats = [is2_gt2r['lat'].min(), is2_gt2r['lat'].max()]\n",
    "ISlons = (is2_gt2r['lon'].max(), is2_gt2r['lon'].min())\n",
    "\n",
    "ATMlats = [atm_l2['Latitude(deg)'].min(), atm_l2['Latitude(deg)'].max()]\n",
    "ATMlons = [atm_l2['Longitude(deg)'].max(), atm_l2['Longitude(deg)'].min()]\n",
    "\n",
    "fig, ax = plt.subplots(figsize=(8,6))\n",
    "image.sel(band='blue').plot()\n",
    "plt.plot(ISlons,ISlats,color = 'green')\n",
    "plt.plot(ATMlons,ATMlats,color = 'orange')"
   ]
  }
 ],
 "metadata": {
  "kernelspec": {
   "display_name": "Python 3 (ipykernel)",
   "language": "python",
   "name": "python3"
  },
  "language_info": {
   "codemirror_mode": {
    "name": "ipython",
    "version": 3
   },
   "file_extension": ".py",
   "mimetype": "text/x-python",
   "name": "python",
   "nbconvert_exporter": "python",
   "pygments_lexer": "ipython3",
   "version": "3.9.10"
  }
 },
 "nbformat": 4,
 "nbformat_minor": 5
}
