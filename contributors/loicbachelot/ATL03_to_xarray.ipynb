{
 "cells": [
  {
   "cell_type": "code",
   "execution_count": null,
   "id": "1ebdbcad-ef25-4a80-9fc5-ea6920a10d07",
   "metadata": {},
   "outputs": [],
   "source": [
    "import icepyx as ipx\n",
    "import numpy as np                   # Numeric Python\n",
    "import matplotlib.pyplot as plt      # Plotting routines\n",
    "import h5py                          # general HDF5 reading/writing library\n",
    "import rioxarray as rx               # Package to read raster data from hdf5 files\n",
    "from pyproj import Transformer, CRS  # libraries to allow coordinate transforms\n",
    "import glob                          # Package to locate files on disk\n",
    "import os                            # File-level utilities\n",
    "import re                            # regular expressions for string interpretation\n",
    "import xarray as xr\n",
    "import dask\n",
    "# %matplotlib inline"
   ]
  },
  {
   "cell_type": "code",
   "execution_count": null,
   "id": "2f9ed9f0-0cab-4a4e-9739-83f9bbab4d0a",
   "metadata": {},
   "outputs": [],
   "source": [
    "%matplotlib widget \n",
    "%config InlineBackend.figure_format = 'retina'"
   ]
  },
  {
   "cell_type": "markdown",
   "id": "d95231ed-6b91-4fde-a766-09346c4c3a6e",
   "metadata": {},
   "source": [
    "# construct query"
   ]
  },
  {
   "cell_type": "code",
   "execution_count": null,
   "id": "e6d2f072-baa2-48e6-a25f-74ffa2940b70",
   "metadata": {},
   "outputs": [],
   "source": [
    "short_name = 'ATL03'\n",
    "spatial_extent = [-101.8,-75.23,-100.50,-74.80]\n",
    "date_range = ['2019-01-01','2019-01-30']"
   ]
  },
  {
   "cell_type": "code",
   "execution_count": null,
   "id": "b7866d5f-d74d-4696-aa0d-34f4c4c1d17b",
   "metadata": {},
   "outputs": [],
   "source": [
    "region_a = ipx.Query(short_name, spatial_extent, date_range)"
   ]
  },
  {
   "cell_type": "code",
   "execution_count": null,
   "id": "2e16ff6f-e8aa-4b8e-93bc-d293d745caf5",
   "metadata": {},
   "outputs": [],
   "source": [
    "print(region_a.product)\n",
    "print(region_a.dates)\n",
    "print(region_a.start_time)\n",
    "print(region_a.end_time)\n",
    "print(region_a.cycles)\n",
    "print(region_a.tracks)\n",
    "print(region_a.product_version)\n",
    "region_a.visualize_spatial_extent()"
   ]
  },
  {
   "cell_type": "code",
   "execution_count": null,
   "id": "0e93ba49-7954-48a8-ad32-c200a8694c83",
   "metadata": {},
   "outputs": [],
   "source": [
    "region_a.product_summary_info()\n",
    "print(region_a.latest_version())"
   ]
  },
  {
   "cell_type": "code",
   "execution_count": null,
   "id": "5ab39f32-23d0-483c-b366-ad78ca4b9a64",
   "metadata": {},
   "outputs": [],
   "source": [
    "region_a.CMRparams"
   ]
  },
  {
   "cell_type": "code",
   "execution_count": null,
   "id": "5d4c6a22-b223-446b-8c38-9e4b17546ff4",
   "metadata": {},
   "outputs": [],
   "source": [
    "region_a.avail_granules()"
   ]
  },
  {
   "cell_type": "code",
   "execution_count": null,
   "id": "3ade2472-8025-4f3c-a96d-842238033ac3",
   "metadata": {},
   "outputs": [],
   "source": [
    "region_a.avail_granules(ids=True)"
   ]
  },
  {
   "cell_type": "code",
   "execution_count": null,
   "id": "89eb783f-d2d7-4a64-85be-3a3f6aa2c17c",
   "metadata": {},
   "outputs": [],
   "source": [
    "region_a.subsetparams()"
   ]
  },
  {
   "cell_type": "markdown",
   "id": "4637ebbc-7a3f-4c3f-b938-155293c7a030",
   "metadata": {},
   "source": [
    "# get data"
   ]
  },
  {
   "cell_type": "code",
   "execution_count": null,
   "id": "e375cd17-1227-4a46-93aa-468224d9b157",
   "metadata": {},
   "outputs": [],
   "source": [
    "earthdata_uid = 'loicbachelot'\n",
    "email = 'loic.bachelot@gmail.com'\n",
    "region_a.earthdata_login(earthdata_uid, email)"
   ]
  },
  {
   "cell_type": "code",
   "execution_count": null,
   "id": "c20a4227-047a-4aa5-89be-808e12408ed2",
   "metadata": {},
   "outputs": [],
   "source": [
    "region_a.order_granules()"
   ]
  },
  {
   "cell_type": "code",
   "execution_count": null,
   "id": "0537b9ae-e7ae-4c9e-9272-29610f286770",
   "metadata": {},
   "outputs": [],
   "source": [
    "region_a.granules.orderIDs"
   ]
  },
  {
   "cell_type": "code",
   "execution_count": null,
   "id": "8a7e91d3-9f40-44db-a9f1-da63f4f43f24",
   "metadata": {},
   "outputs": [],
   "source": [
    "path = '/tmp/product_comp_ATL03/'\n",
    "region_a.download_granules(path)"
   ]
  },
  {
   "cell_type": "markdown",
   "id": "fcfa485d-e858-4889-97b8-c1b0a93419f2",
   "metadata": {},
   "source": [
    "# read data and plot"
   ]
  },
  {
   "cell_type": "markdown",
   "id": "d09a5653-92cd-4aac-b699-db19951313da",
   "metadata": {},
   "source": [
    "## quick look at the data opening one beam data"
   ]
  },
  {
   "cell_type": "code",
   "execution_count": null,
   "id": "31ad575c-1ebb-43b0-8fb7-c41ad3fc3bfa",
   "metadata": {},
   "outputs": [],
   "source": [
    "! h5ls /tmp/product_comp_ATL03/processed_ATL03_20190115051807_02710210_005_01.h5/gt2r/heights"
   ]
  },
  {
   "cell_type": "code",
   "execution_count": null,
   "id": "a410325e-4c98-440f-88c7-63d82fbb0b32",
   "metadata": {},
   "outputs": [],
   "source": [
    "ds = xr.open_dataset(\n",
    "        filename_or_obj=\"/tmp/product_comp_ATL03/processed_ATL03_20190115051807_02710210_005_01.h5\",\n",
    "        group=f\"gt2l/heights\",# take the middle pair track out of pt1, pt2 & pt3\n",
    "    )\n",
    "ds"
   ]
  },
  {
   "cell_type": "markdown",
   "id": "7ba8cd82-bf2d-4213-807f-5ad72305ead3",
   "metadata": {},
   "source": [
    "## Read a full file"
   ]
  },
  {
   "cell_type": "code",
   "execution_count": null,
   "id": "45f27422-e6ac-4a5e-ae6b-e3709dbf25f9",
   "metadata": {},
   "outputs": [],
   "source": [
    "def ATL03_to_xarray(path):\n",
    "    dataset_list = []\n",
    "    for track in ['gt1l', 'gt1r', 'gt2l', 'gt2r', 'gt3l', 'gt3r']:\n",
    "        ds = xr.open_dataset(\n",
    "            filename_or_obj=path,\n",
    "            group=f\"{track}/heights\",\n",
    "        )\n",
    "        ds['gt_id'] = [track]\n",
    "        ds['delta_time'] = np.arange(len(ds.delta_time.data))\n",
    "        ds = ds.rename({'delta_time': 'id_point'})\n",
    "        dataset_list.append(ds)\n",
    "    dataset = xr.concat(dataset_list, dim = 'gt_id')\n",
    "    return dataset"
   ]
  },
  {
   "cell_type": "code",
   "execution_count": null,
   "id": "41251260-a902-45b0-ae77-e2639e2cfae0",
   "metadata": {},
   "outputs": [],
   "source": [
    "ds = ATL03_to_xarray(\"/tmp/product_comp_ATL03/processed_ATL03_20190115051807_02710210_005_01.h5\")\n",
    "ds"
   ]
  },
  {
   "cell_type": "markdown",
   "id": "ee70bbc8-e82e-4db6-95f9-cd17b8cb79ae",
   "metadata": {},
   "source": [
    "# selecting one track and simple plotting"
   ]
  },
  {
   "cell_type": "code",
   "execution_count": null,
   "id": "a62f1d79-6c17-4ffb-a15c-958d5763dfc1",
   "metadata": {},
   "outputs": [],
   "source": [
    "gt2l = ds.sel(gt_id='gt2l')\n",
    "gt2l = gt2l.where(gt2l.quality_ph == 0, drop=True)\n",
    "gt2l"
   ]
  },
  {
   "cell_type": "code",
   "execution_count": null,
   "id": "2a839962-bb0a-4bcf-b947-123b77115eee",
   "metadata": {},
   "outputs": [],
   "source": [
    "plt.scatter(x=gt2l.lat_ph.data, y=gt2l.h_ph.data)"
   ]
  }
 ],
 "metadata": {
  "kernelspec": {
   "display_name": "Python 3 (ipykernel)",
   "language": "python",
   "name": "python3"
  },
  "language_info": {
   "codemirror_mode": {
    "name": "ipython",
    "version": 3
   },
   "file_extension": ".py",
   "mimetype": "text/x-python",
   "name": "python",
   "nbconvert_exporter": "python",
   "pygments_lexer": "ipython3",
   "version": "3.9.10"
  }
 },
 "nbformat": 4,
 "nbformat_minor": 5
}
