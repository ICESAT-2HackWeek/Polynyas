{
 "cells": [
  {
   "cell_type": "code",
   "execution_count": null,
   "id": "1ebdbcad-ef25-4a80-9fc5-ea6920a10d07",
   "metadata": {},
   "outputs": [],
   "source": [
    "import icepyx as ipx\n",
    "%matplotlib inline"
   ]
  },
  {
   "cell_type": "markdown",
   "id": "d95231ed-6b91-4fde-a766-09346c4c3a6e",
   "metadata": {},
   "source": [
    "# construct query"
   ]
  },
  {
   "cell_type": "code",
   "execution_count": null,
   "id": "e6d2f072-baa2-48e6-a25f-74ffa2940b70",
   "metadata": {},
   "outputs": [],
   "source": [
    "# short_name = 'ATL06'\n",
    "# spatial_extent = [-101.8,-75.23,-100.50,-74.80]\n",
    "# date_range = ['2018-10-01','2019-01-31']\n",
    "# pattern = \"processed_ATL{product:2}_{datetime:%Y%m%d%H%M%S}_{rgt:4}{cycle:2}{orbitsegment:2}_{version:3}_{revision:2}.h5\"\n",
    "#var_list=['h_li', \"latitude\", \"longitude\"]\n",
    "\n",
    "short_name = 'ATL10'\n",
    "spatial_extent = [-101.8,-75.23,-100.50,-74.80]\n",
    "date_range = ['2018-10-01','2022-03-22']\n",
    "pattern = \"processed_ATL{product:2}-02_{datetime:%Y%m%d%H%M%S}_{rgt:4}{cycle:2}{orbitsegment:2}_{version:3}_{revision:2}.h5\"\n",
    "var_list=['beam_fb_height', \"latitude\", \"longitude\"]"
   ]
  },
  {
   "cell_type": "code",
   "execution_count": null,
   "id": "b7866d5f-d74d-4696-aa0d-34f4c4c1d17b",
   "metadata": {},
   "outputs": [],
   "source": [
    "region_a = ipx.Query(short_name, spatial_extent, date_range)"
   ]
  },
  {
   "cell_type": "code",
   "execution_count": null,
   "id": "2e16ff6f-e8aa-4b8e-93bc-d293d745caf5",
   "metadata": {},
   "outputs": [],
   "source": [
    "print(region_a.product)\n",
    "print(region_a.dates)\n",
    "print(region_a.start_time)\n",
    "print(region_a.end_time)\n",
    "print(region_a.cycles)\n",
    "print(region_a.tracks)\n",
    "print(region_a.product_version)\n",
    "region_a.visualize_spatial_extent()"
   ]
  },
  {
   "cell_type": "code",
   "execution_count": null,
   "id": "0e93ba49-7954-48a8-ad32-c200a8694c83",
   "metadata": {},
   "outputs": [],
   "source": [
    "region_a.product_summary_info()\n",
    "print(region_a.latest_version())"
   ]
  },
  {
   "cell_type": "code",
   "execution_count": null,
   "id": "5ab39f32-23d0-483c-b366-ad78ca4b9a64",
   "metadata": {},
   "outputs": [],
   "source": [
    "region_a.CMRparams"
   ]
  },
  {
   "cell_type": "code",
   "execution_count": null,
   "id": "5d4c6a22-b223-446b-8c38-9e4b17546ff4",
   "metadata": {},
   "outputs": [],
   "source": [
    "region_a.avail_granules()"
   ]
  },
  {
   "cell_type": "code",
   "execution_count": null,
   "id": "3ade2472-8025-4f3c-a96d-842238033ac3",
   "metadata": {},
   "outputs": [],
   "source": [
    "region_a.avail_granules(ids=True)"
   ]
  },
  {
   "cell_type": "code",
   "execution_count": null,
   "id": "89eb783f-d2d7-4a64-85be-3a3f6aa2c17c",
   "metadata": {},
   "outputs": [],
   "source": [
    "region_a.subsetparams()"
   ]
  },
  {
   "cell_type": "markdown",
   "id": "4637ebbc-7a3f-4c3f-b938-155293c7a030",
   "metadata": {},
   "source": [
    "# get data"
   ]
  },
  {
   "cell_type": "code",
   "execution_count": null,
   "id": "e375cd17-1227-4a46-93aa-468224d9b157",
   "metadata": {},
   "outputs": [],
   "source": [
    "earthdata_uid = 'loicbachelot'\n",
    "email = 'loic.bachelot@gmail.com'\n",
    "region_a.earthdata_login(earthdata_uid, email)"
   ]
  },
  {
   "cell_type": "code",
   "execution_count": null,
   "id": "c20a4227-047a-4aa5-89be-808e12408ed2",
   "metadata": {},
   "outputs": [],
   "source": [
    "region_a.order_granules()"
   ]
  },
  {
   "cell_type": "code",
   "execution_count": null,
   "id": "0537b9ae-e7ae-4c9e-9272-29610f286770",
   "metadata": {},
   "outputs": [],
   "source": [
    "region_a.granules.orderIDs"
   ]
  },
  {
   "cell_type": "code",
   "execution_count": null,
   "id": "8a7e91d3-9f40-44db-a9f1-da63f4f43f24",
   "metadata": {},
   "outputs": [],
   "source": [
    "path = f'/tmp/product_comp_{short_name}/'\n",
    "region_a.download_granules(path)"
   ]
  },
  {
   "cell_type": "markdown",
   "id": "814ad369-c464-4d3c-bef1-fdd4f35d51a2",
   "metadata": {},
   "source": [
    "# read data"
   ]
  },
  {
   "cell_type": "code",
   "execution_count": null,
   "id": "b72e07ea-509c-4f72-bc72-6240dad7c45b",
   "metadata": {},
   "outputs": [],
   "source": [
    "reader = ipx.Read(data_source=path, product=short_name, filename_pattern=pattern)\n",
    "reader._filelist"
   ]
  },
  {
   "cell_type": "code",
   "execution_count": null,
   "id": "61aee84b-8d96-47b8-91aa-1681845cf0fd",
   "metadata": {},
   "outputs": [],
   "source": [
    "reader.vars.append(var_list=var_list)\n",
    "#reader.vars.append(var_list=['beam_fb_height', \"latitude\", \"longitude\"])"
   ]
  },
  {
   "cell_type": "code",
   "execution_count": null,
   "id": "076137fa-895f-42db-8037-3ab97f479bc6",
   "metadata": {},
   "outputs": [],
   "source": [
    "reader.vars.wanted"
   ]
  },
  {
   "cell_type": "code",
   "execution_count": null,
   "id": "7382a96c-844b-41de-b047-67de456ac843",
   "metadata": {},
   "outputs": [],
   "source": [
    "ds = reader.load()\n",
    "ds"
   ]
  },
  {
   "cell_type": "code",
   "execution_count": null,
   "id": "ca1643a0-5f31-4010-8794-a608ecded0ed",
   "metadata": {},
   "outputs": [],
   "source": []
  }
 ],
 "metadata": {
  "kernelspec": {
   "display_name": "Python 3 (ipykernel)",
   "language": "python",
   "name": "python3"
  },
  "language_info": {
   "codemirror_mode": {
    "name": "ipython",
    "version": 3
   },
   "file_extension": ".py",
   "mimetype": "text/x-python",
   "name": "python",
   "nbconvert_exporter": "python",
   "pygments_lexer": "ipython3",
   "version": "3.9.10"
  }
 },
 "nbformat": 4,
 "nbformat_minor": 5
}
