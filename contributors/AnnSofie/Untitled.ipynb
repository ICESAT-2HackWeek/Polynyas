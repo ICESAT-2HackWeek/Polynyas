{
 "cells": [
  {
   "cell_type": "code",
   "execution_count": null,
   "id": "6084a0dc-b5a1-4ba0-a5b4-616c8baeec0d",
   "metadata": {},
   "outputs": [],
   "source": [
    "print('Hello world!')"
   ]
  }
 ],
 "metadata": {
  "kernelspec": {
   "display_name": "Python 3 (ipykernel)",
   "language": "python",
   "name": "python3"
  },
  "language_info": {
   "codemirror_mode": {
    "name": "ipython",
    "version": 3
   },
   "file_extension": ".py",
   "mimetype": "text/x-python",
   "name": "python",
   "nbconvert_exporter": "python",
   "pygments_lexer": "ipython3",
   "version": "3.9.10"
  }
 },
 "nbformat": 4,
 "nbformat_minor": 5
}
